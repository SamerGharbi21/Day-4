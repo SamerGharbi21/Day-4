{
 "cells": [
  {
   "cell_type": "markdown",
   "metadata": {
    "id": "x7F-mxeubDUG"
   },
   "source": [
    "# Python_Lab_2.1\n"
   ]
  },
  {
   "cell_type": "markdown",
   "metadata": {
    "id": "14c6Hn1BbDUH"
   },
   "source": [
    "### Task 1\n",
    "1. Write a function named is_prime that takes a number as a parameter and returns True if the number is prime and False otherwise. Print whether the number 29 is prime."
   ]
  },
  {
   "cell_type": "code",
   "execution_count": 201,
   "metadata": {
    "id": "5e_MZEN0bDUI"
   },
   "outputs": [
    {
     "name": "stdout",
     "output_type": "stream",
     "text": [
      "the number 29 is prime\n"
     ]
    },
    {
     "data": {
      "text/plain": [
       "True"
      ]
     },
     "execution_count": 201,
     "metadata": {},
     "output_type": "execute_result"
    }
   ],
   "source": [
    "def is_prime(num): \n",
    "    if  num == 2 or (num % 2) != 0 :\n",
    "        print(\"the number %d is prime\"  %x)\n",
    "        return True \n",
    "    else :\n",
    "        return False \n",
    "\n",
    "x = 29\n",
    "is_prime(x)"
   ]
  },
  {
   "cell_type": "markdown",
   "metadata": {
    "id": "2zKG8ZcybDUI"
   },
   "source": [
    "### Task 2\n",
    "1. Create a list of 10 numbers and sort them in descending order using the sort() function.\n",
    "2. Use the len() function to print the length of the sorted list.\n",
    "3. Use the zip() function to combine three lists (names, ages, and cities) into a list of tuples.\n",
    "4. Use the range() function to create a list of even numbers from 2 to 20 and print the list."
   ]
  },
  {
   "cell_type": "code",
   "execution_count": 1,
   "metadata": {
    "id": "yyoe__M_bDUI"
   },
   "outputs": [
    {
     "name": "stdout",
     "output_type": "stream",
     "text": [
      "[78, 45, 33, 21, 12, 11, 2, 2, 1, 0]\n",
      "10\n",
      "[('Yousef', 23, 'Medinah'), ('Majid', 23, 'Mekkah'), ('Mohammed', 23, 'Jeddah')]\n",
      "[2, 4, 6, 8, 10, 12, 14, 16, 18]\n"
     ]
    }
   ],
   "source": [
    "list1 = [12, 2, 45, 11, 2, 78, 1, 21, 33, 0]\n",
    "nameList = [\"Yousef\", \"Majid\", \"Mohammed\"]\n",
    "ageList = [23, 23, 23]\n",
    "cityList = [\"Medinah\", \"Mekkah\", \"Jeddah\"]\n",
    "\n",
    "rangelist = []\n",
    "\n",
    "for x in range(2, 20):\n",
    "    if x % 2 == 0:\n",
    "        rangelist.append(x)  \n",
    "\n",
    "info_list = list(zip(nameList, ageList, cityList))\n",
    "list1.sort(reverse=True)\n",
    "\n",
    "print(list1)\n",
    "print(len(list1))\n",
    "print(info_list)\n",
    "print(rangelist)"
   ]
  },
  {
   "cell_type": "markdown",
   "metadata": {
    "id": "aStW5p7AbDUI"
   },
   "source": [
    "### Task 3\n",
    "Build a phone book program that receives the phone number, and returns the name of the owner.\n",
    "You can follow the table below:\n",
    "\n",
    "| Name     | Number     |\n",
    "| -------- | ---------- |\n",
    "| Amal     | 1111111111 |\n",
    "| Mohammed | 2222222222 |\n",
    "| Khadijah | 3333333333 |\n",
    "| Abdullah | 4444444444 |\n",
    "| Rawan    | 5555555555 |\n",
    "| Faisal   | 6666666666 |\n",
    "| Layla    | 7777777777 |\n",
    "\n",
    "- If the number exists, print the owner. Otherwise, print \"Sorry, the number is not found\".\n",
    "- If the number is less or more than 10 numbers, print \"This is invalid number\".\n",
    "- If the number contains letters or symbols, print \"This is invalid number\".\n"
   ]
  },
  {
   "cell_type": "code",
   "execution_count": 3,
   "metadata": {
    "id": "kvXmjUe-bDUJ"
   },
   "outputs": [
    {
     "name": "stdin",
     "output_type": "stream",
     "text": [
      "Enter the phone number:  1111111111\n"
     ]
    },
    {
     "name": "stdout",
     "output_type": "stream",
     "text": [
      "Amal\n"
     ]
    }
   ],
   "source": [
    "contacts = {\n",
    "    \"Amal\"    : 1111111111,\n",
    "    \"Mohammed\": 2222222222,\n",
    "    \"Khadijah\": 3333333333,\n",
    "    \"Abdullah\": 4444444444,\n",
    "    \"Rawan\"   : 5555555555,\n",
    "    \"Faisal\"  : 6666666666,\n",
    "    \"Layla\"   : 7777777777\n",
    "}\n",
    "\n",
    "try:\n",
    "    phoneNumber = int(input(\"Enter the phone number: \"))\n",
    "except ValueError:\n",
    "    print(\"This is invalid number\")\n",
    "else:\n",
    "    x = len(str(phoneNumber))\n",
    "    if x > 10 or x < 10:\n",
    "        print(\"This is invalid number\")\n",
    "    else:\n",
    "        for name, num in contacts.items():\n",
    "            if phoneNumber == num:\n",
    "                print(name)\n",
    "                break\n",
    "        else:\n",
    "            print(\"Sorry, the number is not found\")\n"
   ]
  },
  {
   "cell_type": "markdown",
   "metadata": {
    "id": "exLHQ28nbDUJ"
   },
   "source": [
    "### Task 4\n",
    "- Given the following list : [5, 4, 17, 19, 30, 2, 7, 10, 45]\n",
    "    1. Use a lambda function to filter out only the odd numbers.\n",
    "    2. Print the new list of odd numbers."
   ]
  },
  {
   "cell_type": "code",
   "execution_count": 5,
   "metadata": {
    "id": "64SUsh1cbDUJ"
   },
   "outputs": [
    {
     "name": "stdout",
     "output_type": "stream",
     "text": [
      "[4, 30, 2, 10]\n",
      "4\n",
      "30\n",
      "2\n",
      "10\n"
     ]
    }
   ],
   "source": [
    "originList = [5, 4, 17, 19, 30, 2, 7, 10, 45]\n",
    "oddList = []\n",
    "\n",
    "for x in originList :\n",
    "    odd = lambda x : (x % 2) == 0\n",
    "    if odd(x) == True :\n",
    "        oddList.append(x)\n",
    "   \n",
    "print(oddList)\n",
    "\n",
    "# Another solution \n",
    "\n",
    "for x in oddList :\n",
    "    y = x\n",
    "    print(y)\n"
   ]
  },
  {
   "cell_type": "code",
   "execution_count": null,
   "metadata": {},
   "outputs": [],
   "source": []
  }
 ],
 "metadata": {
  "colab": {
   "provenance": []
  },
  "kernelspec": {
   "display_name": "Python 3 (ipykernel)",
   "language": "python",
   "name": "python3"
  },
  "language_info": {
   "codemirror_mode": {
    "name": "ipython",
    "version": 3
   },
   "file_extension": ".py",
   "mimetype": "text/x-python",
   "name": "python",
   "nbconvert_exporter": "python",
   "pygments_lexer": "ipython3",
   "version": "3.12.4"
  }
 },
 "nbformat": 4,
 "nbformat_minor": 4
}
