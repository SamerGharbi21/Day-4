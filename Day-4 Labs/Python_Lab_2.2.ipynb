{
 "cells": [
  {
   "cell_type": "markdown",
   "metadata": {
    "id": "E9Y5ss1ZYj3r"
   },
   "source": [
    "# Python_Lab_2.2\n"
   ]
  },
  {
   "cell_type": "markdown",
   "metadata": {
    "id": "Q1kAqc72Yj3t"
   },
   "source": [
    "### Task 1\n",
    "1. Write a program that prompts the user to enter two numbers and prints their division. Handle cases where the user enters non-numeric values or attempts to divide by zero using a try-except block.\n"
   ]
  },
  {
   "cell_type": "code",
   "execution_count": 17,
   "metadata": {
    "id": "H-xyoRTVYj3t"
   },
   "outputs": [
    {
     "name": "stdin",
     "output_type": "stream",
     "text": [
      "Enter first number 10\n",
      "Enter second number 2\n"
     ]
    },
    {
     "name": "stdout",
     "output_type": "stream",
     "text": [
      "5.0\n"
     ]
    }
   ],
   "source": [
    "try : \n",
    "    x = int(input(\"Enter first number\"))\n",
    "    y = int(input(\"Enter second number\"))\n",
    "except :\n",
    "    print(\"Invalied input\")\n",
    "\n",
    "try:\n",
    "    print(x/y)\n",
    "except:\n",
    "    print(\"Invalied divituion\")\n"
   ]
  },
  {
   "cell_type": "markdown",
   "metadata": {
    "id": "CPWcDSC_Yj3u"
   },
   "source": [
    "### Task 2\n",
    "- Use \"Random\" library to do the following:\n",
    "    1. Create a list of random numbers using list comprehension.\n",
    "    2. Create a list of squares of the even numbers from random numbers using list comprehension.\n",
    "    3. Create a list of tuples (number, square) for random numbers using list comprehension."
   ]
  },
  {
   "cell_type": "code",
   "execution_count": 103,
   "metadata": {
    "id": "Yfq-i6CeYj3u"
   },
   "outputs": [
    {
     "name": "stdout",
     "output_type": "stream",
     "text": [
      "[8, 78, 24, 88, 50, 73, 8, 79, 24, 22, 27, 88, 79, 12, 91]\n",
      "[92, 8, 19, 4, 78]\n",
      "[('Yousef', 100), ('Majid', 441), ('Mohammed', 841), ('Ahmed', 3600), ('Saud', 1156)]\n"
     ]
    }
   ],
   "source": [
    "import random\n",
    "import math\n",
    "\n",
    "rendomList = [random.randint(1, 100) for x in range(15)]\n",
    "print(rendomList)\n",
    "\n",
    "evenList = [random.randint(1, 100) for x in range(15) if random.randint(1, 100) % 2 != 0]\n",
    "print(evenList)\n",
    "\n",
    "nameList = [\"Yousef\", \"Majid\", \"Mohammed\", \"Ahmed\", \"Saud\"]\n",
    "squareList = [int(math.pow(random.randint(1, 100),2))  for x in range(5)]\n",
    "myTuple = list(zip(nameList , squareList))\n",
    "print(myTuple)"
   ]
  },
  {
   "cell_type": "markdown",
   "metadata": {
    "id": "jYdOq46NYj3u"
   },
   "source": [
    "### Task 3\n",
    "- Create a dictionary where the keys are numbers from 1 to 5 and the values are list of their squares and cubes.\n",
    "\n",
    "  - **hint**: use dictionary of list comprehension.\n",
    "\n",
    "- Create a dictionary from two lists (one with keys and one with values) using dictionary comprehension.\n",
    "\n"
   ]
  },
  {
   "cell_type": "code",
   "execution_count": 7,
   "metadata": {
    "id": "IEnsiNmCYj3u",
    "scrolled": true
   },
   "outputs": [
    {
     "name": "stdout",
     "output_type": "stream",
     "text": [
      "{1: (1, 1), 2: (4, 8), 3: (9, 27), 4: (16, 64), 5: (25, 125)}\n",
      "{'Yousef': 28, 'Majid': 28, 'Mohammed': 28}\n"
     ]
    }
   ],
   "source": [
    "firstDict = {x : (x**2, x**3) for x in range(1,6)}\n",
    "print(firstDict)\n",
    "\n",
    "nameList = [\"Yousef\", \"Majid\", \"Mohammed\", \"Ahmed\", \"Saud\"]\n",
    "ageList = [23, 23, 23]\n",
    "\n",
    "friendsDict = {name : age for name,age in zip(nameList,ageList)}\n",
    "print(friendsDict)"
   ]
  },
  {
   "cell_type": "markdown",
   "metadata": {
    "id": "6T9TCQ8SYj3v"
   },
   "source": [
    "### Task 4\n",
    "- Given a dictionary where keys are student names and values are lists of their scores, write a function that updates the scores of students who have achieved a perfect score (100) by adding a bonus of 5 points to each score. Use dictionary comprehension to achieve this.\n",
    "\n",
    "    - Implement the function add_bonus_to_perfect_scores(student_scores) that adds a bonus of 5 points to each score of students who have achieved a perfect score (100)."
   ]
  },
  {
   "cell_type": "code",
   "execution_count": 51,
   "metadata": {
    "id": "T3R_VsQpYj3v"
   },
   "outputs": [
    {
     "name": "stdout",
     "output_type": "stream",
     "text": [
      "{'Yousef': [105, 90], 'Majid': [90, 90], 'Saud': [105, 80]}\n"
     ]
    }
   ],
   "source": [
    "studentName = [\"Yousef\", \"Majid\", \"Saud\"]\n",
    "studenrGrade = [[100 , 90] , [90 , 90] , [100 , 80]]\n",
    "\n",
    "def Grade (Student):\n",
    "  return {name: [grade + 5 \n",
    "                 if grade == 100 \n",
    "                 else grade for grade in grade]\n",
    "            for name, grade in Student.items()}\n",
    "\n",
    "bounes = Grade({name : grade for name,grade in zip(studentName,studenrGrade)})\n",
    "print(bounes)"
   ]
  },
  {
   "cell_type": "code",
   "execution_count": null,
   "metadata": {},
   "outputs": [],
   "source": []
  }
 ],
 "metadata": {
  "colab": {
   "provenance": []
  },
  "kernelspec": {
   "display_name": "Python 3 (ipykernel)",
   "language": "python",
   "name": "python3"
  },
  "language_info": {
   "codemirror_mode": {
    "name": "ipython",
    "version": 3
   },
   "file_extension": ".py",
   "mimetype": "text/x-python",
   "name": "python",
   "nbconvert_exporter": "python",
   "pygments_lexer": "ipython3",
   "version": "3.12.4"
  }
 },
 "nbformat": 4,
 "nbformat_minor": 4
}
